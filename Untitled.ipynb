{
 "cells": [
  {
   "cell_type": "code",
   "execution_count": 1,
   "id": "5309aa8f",
   "metadata": {},
   "outputs": [],
   "source": []
  },
  {
   "cell_type": "code",
   "execution_count": 22,
   "id": "0f2c7fb6",
   "metadata": {},
   "outputs": [
    {
     "name": "stdout",
     "output_type": "stream",
     "text": [
      "<pyopenms.pyopenms_7.Residue object at 0x000002905B7AB990>   204.0898783828\n",
      "<pyopenms.pyopenms_7.Residue object at 0x000002905BA25290>   147.0531592871\n",
      "<pyopenms.pyopenms_7.Residue object at 0x000002905B7AB990>   119.0582442871\n",
      "<pyopenms.pyopenms_7.Residue object at 0x000002905BA25290>   181.0738943509\n",
      "<pyopenms.pyopenms_7.Residue object at 0x000002905B7AB990>   162.9701556233\n",
      "<pyopenms.pyopenms_7.Residue object at 0x000002905BA25290>   131.0946294147\n",
      "<pyopenms.pyopenms_7.Residue object at 0x000002905B7AB990>   255.1582926699\n",
      "********************************************************************\n",
      "Mass as total by getMonoWeight func = 1092.4348636329998\n",
      "Mass as seperate one by one = 255.1582926699    ^ ^)\n"
     ]
    }
   ],
   "source": [
    "from pyopenms import *\n",
    "peptide = AASequence.fromString(\"WETYUIO\")\n",
    "totalMass = peptide.getMonoWeight()\n",
    "separateMass = 0\n",
    "for amino in peptide:\n",
    "    separateMass =+ amino.getMonoWeight()\n",
    "    print(amino,\" \",amino.getMonoWeight())\n",
    "print(\"********************************************************************\")\n",
    "print(\"Mass as total by getMonoWeight func =\",totalMass)\n",
    "print(\"Mass as seperate one by one =\",separateMass,\"   ^ ^)\")\n"
   ]
  },
  {
   "cell_type": "code",
   "execution_count": null,
   "id": "e8d91d1f",
   "metadata": {},
   "outputs": [],
   "source": []
  }
 ],
 "metadata": {
  "kernelspec": {
   "display_name": "Python 3 (ipykernel)",
   "language": "python",
   "name": "python3"
  },
  "language_info": {
   "codemirror_mode": {
    "name": "ipython",
    "version": 3
   },
   "file_extension": ".py",
   "mimetype": "text/x-python",
   "name": "python",
   "nbconvert_exporter": "python",
   "pygments_lexer": "ipython3",
   "version": "3.9.12"
  }
 },
 "nbformat": 4,
 "nbformat_minor": 5
}
